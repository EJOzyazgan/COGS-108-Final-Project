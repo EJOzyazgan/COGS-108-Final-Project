{
 "cells": [
  {
   "cell_type": "markdown",
   "metadata": {},
   "source": [
    "# COGS 108 - Final Project "
   ]
  },
  {
   "cell_type": "markdown",
   "metadata": {},
   "source": [
    "# Overview"
   ]
  },
  {
   "cell_type": "markdown",
   "metadata": {},
   "source": []
  },
  {
   "cell_type": "markdown",
   "metadata": {},
   "source": [
    "# Names\n",
    "\n",
    "- EJ Ozyazgan\n",
    "- David Kim\n",
    "- Sarah Ehsan\n",
    "- Steven Liu\n",
    "- Weicong Dong"
   ]
  },
  {
   "cell_type": "markdown",
   "metadata": {},
   "source": [
    "# Group Members IDs\n",
    "\n",
    "- A13833934\n",
    "- A13800407\n",
    "- A########\n",
    "- A########"
   ]
  },
  {
   "cell_type": "markdown",
   "metadata": {},
   "source": [
    "# Research Question"
   ]
  },
  {
   "cell_type": "markdown",
   "metadata": {},
   "source": [
    "How does a nation's wealth affect its suicide rate? "
   ]
  },
  {
   "cell_type": "markdown",
   "metadata": {},
   "source": [
    "## Background and Prior Work"
   ]
  },
  {
   "cell_type": "markdown",
   "metadata": {},
   "source": [
    "Our dataset includes a variety of countries (101) with a breakdown of age, # of suicides, population, suicides per 100k population, country/year, HDI for year, GDP for year, GDP per capita, and generation. Choosing this dataset was due to our background knowledge on a nation's measure of wealth typically being GDP. \n",
    "\n",
    "When deciding our data science question, we came across a scholarly journal article that touched on similar topics which essentially allowed us to form a question based on the information we were exposed to. In the journal article titled “Prevalence and social correlated of postnatal depression in a country” in the journal Archives of Women’s Mental Health, the data study concluded that post-natal depression rates are higher in developing countries. With this information, we found it interesting that a correlation between a countries’ developing status and post-natal depression even existed. With that being said, we wanted to formulate a question that was similar yet broad as well as a more concrete method of examining wealth; GDP. \n",
    "\n",
    "Although the common belief may be that nations with less wealth probably experience higher rates of suicide, it’s important to consider other factors that may drive citizens of a wealthier nation into depression. The reason why we stand by our hypothesis is that we believe that there are pressure and expectations to succeed in wealthier nations. There is a stigma of being expected to attend university and achieve the “American dream” in the United States which is stressful amongst our youth. As well as pressure to succeed, there are other factors in wealthier nations that we strongly believe contribute to this correlation. For example, plastic surgery rates in the United States are at an all-time high which has affected our rates of depression. \n",
    "\n",
    "\n",
    "References (include links):\n",
    "- Husain, N., et al. “Prevalence and Social Correlates of Postnatal Depression in a Low Income Country.” SpringerLink, Springer-Verlag, 24 Apr. 2006, link.springer.com/article/10.1007/s00737-006-0129-9."
   ]
  },
  {
   "cell_type": "markdown",
   "metadata": {},
   "source": [
    "# Hypothesis\n"
   ]
  },
  {
   "cell_type": "markdown",
   "metadata": {},
   "source": [
    "We believe that countries with more wealth (aka higher GDP) experience higher rates of suicide. "
   ]
  },
  {
   "cell_type": "markdown",
   "metadata": {},
   "source": [
    "# Dataset(s)"
   ]
  },
  {
   "cell_type": "markdown",
   "metadata": {},
   "source": [
    "- Dataset Name: Suicide Rates Overview 1985 to 2016\n",
    "- Link to the dataset: https://www.kaggle.com/russellyates88/suicide-rates-overview-1985-to-2016\n",
    "- Number of observations: 27820\n",
    "\n",
    "Our dataset has data from 101 contries for the years 1985 - 2016 consisting of age, suicides_no, population, suicides/100k pop, country-year, HDI for year, gdp_for_year ($), and gdp_per_capita ($)"
   ]
  },
  {
   "cell_type": "markdown",
   "metadata": {},
   "source": [
    "# Setup"
   ]
  },
  {
   "cell_type": "code",
   "execution_count": 34,
   "metadata": {},
   "outputs": [],
   "source": [
    "# Imports \n",
    "%matplotlib inline\n",
    "\n",
    "import numpy as np\n",
    "import pandas as pd\n",
    "import matplotlib.pyplot as plt"
   ]
  },
  {
   "cell_type": "code",
   "execution_count": 35,
   "metadata": {},
   "outputs": [],
   "source": [
    "df = pd.read_csv('master.csv')"
   ]
  },
  {
   "cell_type": "markdown",
   "metadata": {},
   "source": [
    "# Data Cleaning"
   ]
  },
  {
   "cell_type": "markdown",
   "metadata": {},
   "source": [
    "We got lucky that our data was already quite clean, however to get it more clean, we renamed the data columns to be easier to understand. \n",
    "\n",
    "We also dropped all rows that were missing data in our key variables GDP, GDP Per Capita, Suicide Per 100K, and Year"
   ]
  },
  {
   "cell_type": "code",
   "execution_count": 36,
   "metadata": {},
   "outputs": [],
   "source": [
    "# Renaming the columns of the dataframe\n",
    "df.columns = [\"country\", \"year\", \"sex\", \"age\", \"suicides\", \"population\", \"suicides_per_100K\", \n",
    "              \"country-year\", \"hdi\", \"gdp\", \"gdp_per_capita\", \"generation\"]\n",
    "\n",
    "# # Drop rows that are missing key data, GDP, GDP Per Capita, Suicide Per 100K, and Year\n",
    "df.dropna(subset=['country', 'year', 'suicides', 'suicides_per_100K', 'gdp', 'gdp_per_capita'],\n",
    "          inplace=True)"
   ]
  },
  {
   "cell_type": "code",
   "execution_count": 65,
   "metadata": {},
   "outputs": [
    {
     "name": "stderr",
     "output_type": "stream",
     "text": [
      "C:\\Users\\ejozy\\Anaconda3\\lib\\site-packages\\ipykernel_launcher.py:18: RuntimeWarning: invalid value encountered in longlong_scalars\n",
      "C:\\Users\\ejozy\\Anaconda3\\lib\\site-packages\\ipykernel_launcher.py:19: RuntimeWarning: invalid value encountered in longlong_scalars\n"
     ]
    },
    {
     "name": "stdout",
     "output_type": "stream",
     "text": [
      "{1987: [nan, nan], 1988: [nan, nan], 1989: [nan, nan], 1992: [0.011101080014712276, 0.0037480209803013496], 1993: [0.011033407621285145, 0.003723166606386826], 1994: [0.011406240071169855, 0.0035248647255861887], 1995: [0.011918778789944434, 0.003337770248467247], 1996: [0.01357424562047143, 0.003654723256786632], 1997: [0.011971768069329045, 0.0033817270130021572], 1998: [0.01212086007764321, 0.0034941463553584823], 1999: [0.013005694507870195, 0.0039042078436651063], 2000: [0.013458162181121336, 0.004226718252062529], 2001: [0.013241686132186807, 0.004039090893574691], 2002: [0.010463143908943446, 0.0035051510346740256], 2003: [0.009071787318813574, 0.0032808628998378525], 2004: [0.008132669277457613, 0.00263121205245475], 2005: [0.007838761526745624, 0.002531422975296181], 2006: [nan, nan], 2007: [nan, nan], 2008: [nan, nan], 2009: [0.00816545136068906, 0.0029467761289502965], 2010: [0.007953661386594596, 0.003500595333034121], 1985: [nan, nan], 1986: [nan, nan], 1990: [0.011945392491467578, 0.005167692184295258], 1991: [0.012183253010635428, 0.0040137419640123816], 2012: [0.009328987350657823, 0.0046225614672897024], 2013: [0.00993462759537449, 0.004640874293421347], 2014: [0.010372357291313155, 0.0050116619193880715], 2015: [nan, nan], 2011: [0.008722438492439517, 0.00394559836449224], 2016: [nan, nan]}\n"
     ]
    }
   ],
   "source": [
    "countries = df['country'].unique()\n",
    "years = df['year'].unique()\n",
    "\n",
    "suicide_rates = {}\n",
    "\n",
    "for year in years:\n",
    "    for country in countries:\n",
    "        data = df[(df['country'] == country) & (df['year'] == year)]\n",
    "        male = data[data['sex'] == 'male']\n",
    "        female = data[data['sex'] == 'female']\n",
    "        \n",
    "        suicide_m = male['suicides']\n",
    "        suicide_f = female['suicides']\n",
    "        \n",
    "        pop_m = male['population']\n",
    "        pop_f = female['population']\n",
    "        \n",
    "        suicide_rate_m = (suicide_m.sum() / pop_m.sum()) * 100\n",
    "        suicide_rate_f = (suicide_f.sum() / pop_f.sum()) * 100\n",
    "        \n",
    "        suicide_rates[year] = [suicide_rate_m, suicide_rate_f]\n",
    "        \n",
    "print(suicide_rates)"
   ]
  },
  {
   "cell_type": "markdown",
   "metadata": {},
   "source": [
    "# Data Analysis & Results"
   ]
  },
  {
   "cell_type": "markdown",
   "metadata": {},
   "source": [
    "Include cells that describe the steps in your data analysis."
   ]
  },
  {
   "cell_type": "code",
   "execution_count": 41,
   "metadata": {},
   "outputs": [
    {
     "name": "stderr",
     "output_type": "stream",
     "text": [
      "C:\\Users\\ejozy\\Anaconda3\\lib\\site-packages\\pandas\\core\\ops.py:1649: FutureWarning: elementwise comparison failed; returning scalar instead, but in the future will perform elementwise comparison\n",
      "  result = method(y)\n"
     ]
    },
    {
     "data": {
      "image/png": "[encoded data removed]",
      "text/plain": [
       "<Figure size 432x288 with 1 Axes>"
      ]
     },
     "metadata": {
      "needs_background": "light"
     },
     "output_type": "display_data"
    }
   ],
   "source": [
    "plt.scatter(df[(df['country'] == 'Albania') & (df['year'] == '1987')]['suicides_per_100K'],\n",
    "            df[(df['country'] == 'Albania') & (df['year'] == '1987')]['gdp_per_capita'])\n",
    "plt.title('Suicide vs GDP Per Capita')\n",
    "plt.xlabel('Suicide Per 100K')\n",
    "plt.ylabel('GDP Per Capita')\n",
    "plt.show()"
   ]
  },
  {
   "cell_type": "markdown",
   "metadata": {},
   "source": [
    "# Ethics & Privacy"
   ]
  },
  {
   "cell_type": "markdown",
   "metadata": {},
   "source": [
    "**Data Collection**\n",
    "\n",
    "The data we are using is being downloaded from kaggle, which is publicly available on the web. Even though the topic of suicide is extremely sensitive and private, the data we are using only shows national statistics and does not reveal information on individuals and their identities. \n",
    "\n",
    "**Data Storage**\n",
    "\n",
    "The dataset is publicly available and when we update the dataset with more information, it will be stored within our Google Drive folder, where it is presumably safe since Google Drive folders are only accessible to those explicitly granted access.\n",
    "\n",
    "**Analysis**\n",
    "\n",
    "All of our analysis visualizations will not have any personally identifiable information. We also acknowledge the bias of this dataset toward not looking at all countries in the world. We will be careful in generalizing our results.\n",
    "\n",
    "**Modeling**\n",
    "\n",
    "To create models, we will be looking at variables such as GDP, country, suicide rate, and year. Through these models, we will draw conclusions to see if some variables correlate to other variables, while also being careful to account for confounding variables and potential outliers.\n",
    "\n",
    "**Deployment**\n",
    "\n",
    "In the case that the sensitive nature of the topic of suicide related to factors such as GDP and country cause negative impacts, we will reconsider the variables we are analyzing to meet different standards.\n"
   ]
  },
  {
   "cell_type": "markdown",
   "metadata": {},
   "source": [
    "# Conclusion & Discussion"
   ]
  },
  {
   "cell_type": "markdown",
   "metadata": {},
   "source": [
    "*Fill in your discussion information here*"
   ]
  }
 ],
 "metadata": {
  "kernelspec": {
   "display_name": "Python 3",
   "language": "python",
   "name": "python3"
  },
  "language_info": {
   "codemirror_mode": {
    "name": "ipython",
    "version": 3
   },
   "file_extension": ".py",
   "mimetype": "text/x-python",
   "name": "python",
   "nbconvert_exporter": "python",
   "pygments_lexer": "ipython3",
   "version": "3.7.3"
  }
 },
 "nbformat": 4,
 "nbformat_minor": 2
}
