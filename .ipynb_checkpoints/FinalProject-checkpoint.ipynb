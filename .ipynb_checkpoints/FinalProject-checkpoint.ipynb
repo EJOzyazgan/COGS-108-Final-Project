{
 "cells": [
  {
   "cell_type": "markdown",
   "metadata": {},
   "source": [
    "# COGS 108 - Final Project "
   ]
  },
  {
   "cell_type": "markdown",
   "metadata": {},
   "source": [
    "# Overview"
   ]
  },
  {
   "cell_type": "markdown",
   "metadata": {},
   "source": []
  },
  {
   "cell_type": "markdown",
   "metadata": {},
   "source": [
    "# Names\n",
    "\n",
    "- EJ Ozyazgan\n",
    "- David Kim\n",
    "- Sarah Ehsan\n",
    "- Steven Liu\n",
    "- Weicong Dong"
   ]
  },
  {
   "cell_type": "markdown",
   "metadata": {},
   "source": [
    "# Group Members IDs\n",
    "\n",
    "- A13833934\n",
    "- A########\n",
    "- A########\n",
    "- A########"
   ]
  },
  {
   "cell_type": "markdown",
   "metadata": {},
   "source": [
    "# Research Question"
   ]
  },
  {
   "cell_type": "markdown",
   "metadata": {},
   "source": [
    "How does a nation's wealth affect its suicide rate? "
   ]
  },
  {
   "cell_type": "markdown",
   "metadata": {},
   "source": [
    "## Background and Prior Work"
   ]
  },
  {
   "cell_type": "markdown",
   "metadata": {},
   "source": [
    "Our dataset includes a variety of countries (101) with a breakdown of age, # of suicides, population, suicides per 100k population, country/year, HDI for year, GDP for year, GDP per capita, and generation. Choosing this dataset was due to our background knowledge on a nation's measure of wealth typically being GDP. \n",
    "\n",
    "When deciding our data science question, we came across a scholarly journal article that touched on similar topics which essentially allowed us to form a question based on the information we were exposed to. In the journal article titled “Prevalence and social correlated of postnatal depression in a country” in the journal Archives of Women’s Mental Health, the data study concluded that post-natal depression rates are higher in developing countries. With this information, we found it interesting that a correlation between a countries’ developing status and post-natal depression even existed. With that being said, we wanted to formulate a question that was similar yet broad as well as a more concrete method of examining wealth; GDP. \n",
    "\n",
    "Although the common belief may be that nations with less wealth probably experience higher rates of suicide, it’s important to consider other factors that may drive citizens of a wealthier nation into depression. The reason why we stand by our hypothesis is that we believe that there are pressure and expectations to succeed in wealthier nations. There is a stigma of being expected to attend university and achieve the “American dream” in the United States which is stressful amongst our youth. As well as pressure to succeed, there are other factors in wealthier nations that we strongly believe contribute to this correlation. For example, plastic surgery rates in the United States are at an all-time high which has affected our rates of depression. \n",
    "\n",
    "\n",
    "References (include links):\n",
    "- Husain, N., et al. “Prevalence and Social Correlates of Postnatal Depression in a Low Income Country.” SpringerLink, Springer-Verlag, 24 Apr. 2006, link.springer.com/article/10.1007/s00737-006-0129-9."
   ]
  },
  {
   "cell_type": "markdown",
   "metadata": {},
   "source": [
    "# Hypothesis\n"
   ]
  },
  {
   "cell_type": "markdown",
   "metadata": {},
   "source": [
    "We believe that countries with more wealth (aka higher GDP) experience higher rates of suicide. "
   ]
  },
  {
   "cell_type": "markdown",
   "metadata": {},
   "source": [
    "# Dataset(s)"
   ]
  },
  {
   "cell_type": "markdown",
   "metadata": {},
   "source": [
    "- Dataset Name: Suicide Rates Overview 1985 to 2016\n",
    "- Link to the dataset: https://www.kaggle.com/russellyates88/suicide-rates-overview-1985-to-2016\n",
    "- Number of observations: 27820\n",
    "\n",
    "Our dataset has data from 101 contries for the years 1985 - 2016 consisting of age, suicides_no, population, suicides/100k pop, country-year, HDI for year, gdp_for_year ($), and gdp_per_capita ($)"
   ]
  },
  {
   "cell_type": "code",
   "execution_count": 11,
   "metadata": {},
   "outputs": [],
   "source": [
    "# Imports \n",
    "%matplotlib inline\n",
    "\n",
    "import numpy as np\n",
    "import pandas as pd\n",
    "import matplotlib.pyplot as plt"
   ]
  },
  {
   "cell_type": "markdown",
   "metadata": {},
   "source": [
    "# Setup"
   ]
  },
  {
   "cell_type": "code",
   "execution_count": 31,
   "metadata": {},
   "outputs": [],
   "source": [
    "df = pd.read_csv('master.csv')"
   ]
  },
  {
   "cell_type": "markdown",
   "metadata": {},
   "source": [
    "# Data Cleaning"
   ]
  },
  {
   "cell_type": "markdown",
   "metadata": {},
   "source": [
    "Describe your data cleaning steps here."
   ]
  },
  {
   "cell_type": "code",
   "execution_count": 32,
   "metadata": {},
   "outputs": [],
   "source": [
    "# Renaming the columns of the dataframe\n",
    "df.columns = [\"country\", \"year\", \"sex\", \"age\", \"suicides\", \"population\", \"suicides_per_100K\", \n",
    "              \"country-year\", \"hdi\", \"gdp\", \"gdp_per_capita\", \"generation\"]\n",
    "\n",
    "# # Drop rows that are missing key data, GDP, GDP Per Capita, Suicide Per 100K, and Year\n",
    "df.dropna(subset=['country', 'year', 'suicides', 'suicides_per_100K', 'gdp', 'gdp_per_capita'],\n",
    "          inplace=True)"
   ]
  },
  {
   "cell_type": "code",
   "execution_count": null,
   "metadata": {},
   "outputs": [],
   "source": []
  },
  {
   "cell_type": "markdown",
   "metadata": {},
   "source": [
    "# Data Analysis & Results"
   ]
  },
  {
   "cell_type": "markdown",
   "metadata": {},
   "source": [
    "Include cells that describe the steps in your data analysis."
   ]
  },
  {
   "cell_type": "code",
   "execution_count": 5,
   "metadata": {},
   "outputs": [],
   "source": [
    "## YOUR CODE HERE\n",
    "## FEEL FREE TO ADD MULTIPLE CELLS PER SECTION"
   ]
  },
  {
   "cell_type": "markdown",
   "metadata": {},
   "source": [
    "# Ethics & Privacy"
   ]
  },
  {
   "cell_type": "markdown",
   "metadata": {},
   "source": [
    "**Data Collection**\n",
    "\n",
    "The data we are using is being downloaded from kaggle, which is publicly available on the web. Even though the topic of suicide is extremely sensitive and private, the data we are using only shows national statistics and does not reveal information on individuals and their identities. \n",
    "\n",
    "**Data Storage**\n",
    "\n",
    "The dataset is publicly available and when we update the dataset with more information, it will be stored within our Google Drive folder, where it is presumably safe since Google Drive folders are only accessible to those explicitly granted access.\n",
    "\n",
    "**Analysis**\n",
    "\n",
    "All of our analysis visualizations will not have any personally identifiable information. We also acknowledge the bias of this dataset toward not looking at all countries in the world. We will be careful in generalizing our results.\n",
    "\n",
    "**Modeling**\n",
    "\n",
    "To create models, we will be looking at variables such as GDP, country, suicide rate, and year. Through these models, we will draw conclusions to see if some variables correlate to other variables, while also being careful to account for confounding variables and potential outliers.\n",
    "\n",
    "**Deployment**\n",
    "\n",
    "In the case that the sensitive nature of the topic of suicide related to factors such as GDP and country cause negative impacts, we will reconsider the variables we are analyzing to meet different standards.\n"
   ]
  },
  {
   "cell_type": "markdown",
   "metadata": {},
   "source": [
    "# Conclusion & Discussion"
   ]
  },
  {
   "cell_type": "markdown",
   "metadata": {},
   "source": [
    "*Fill in your discussion information here*"
   ]
  }
 ],
 "metadata": {
  "kernelspec": {
   "display_name": "Python 3",
   "language": "python",
   "name": "python3"
  },
  "language_info": {
   "codemirror_mode": {
    "name": "ipython",
    "version": 3
   },
   "file_extension": ".py",
   "mimetype": "text/x-python",
   "name": "python",
   "nbconvert_exporter": "python",
   "pygments_lexer": "ipython3",
   "version": "3.7.3"
  }
 },
 "nbformat": 4,
 "nbformat_minor": 2
}
